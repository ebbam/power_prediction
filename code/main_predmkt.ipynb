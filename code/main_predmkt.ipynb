{
 "cells": [
  {
   "cell_type": "markdown",
   "metadata": {},
   "source": [
    "\n",
    "# Prediction Market\n",
    "\n",
    "**Collaborators: Josefina Waugh, Anne Bastian, Bridget Smart, Ebba Mark**\n",
    "\n",
    "Preliminary model implementation of:\n",
    "- Betters engage in a market trading contracts on a binary election outcome.\n",
    "- Betters are endowed with initial budget, risk aversion, belief about outcome.\n",
    "- Next extension will incorporate more detail into formation of this belief."
   ]
  },
  {
   "cell_type": "code",
   "execution_count": 1,
   "metadata": {},
   "outputs": [],
   "source": [
    "# Import packages\n",
    "import numpy as np\n",
    "import random as random\n",
    "import matplotlib.pyplot as plt"
   ]
  },
  {
   "cell_type": "markdown",
   "metadata": {},
   "source": [
    "### Defining Agents, Classes, Functions"
   ]
  },
  {
   "cell_type": "code",
   "execution_count": 2,
   "metadata": {},
   "outputs": [],
   "source": [
    "## Defining classes\n",
    "class better:\n",
    "    def __init__(self): \n",
    "                # Their current budget\n",
    "                self.budget = np.random.uniform(100,1000),\n",
    "                # Their personal contract valuation - this will ultimately depend on their beliefs and evolve in relation to market activity\n",
    "                self.market_valuation = np.random.uniform(0,1)\n",
    "                # The number of contracts currently held\n",
    "                self.n_contracts = 0,\n",
    "                # Risk aversion score (if we indeed try to vary the risk aversion)\n",
    "                self.risk_av = np.random.uniform(0,1),\n",
    "                # Definition (loose): your willingness to change your opinion in the face of contradicting evidence\n",
    "                # Will ideally be used to process \"fact\" or \"news\" - again, loosely defined for now\n",
    "                self.stubbornness = np.random.uniform(0,1)\n",
    "                # TASK: consider adding inherent \"expert\" value here to factor into the \n",
    "                # update_belief as the noise around the true value\n",
    "                # ...\n",
    "                \n",
    "    ### TASK\n",
    "    def exp_utility(self, mkt_price, new_c):\n",
    "        self.market_valuation * utility(self.budget - mkt_price*new_c + n_contracts + new_c) + ((1-self.market_valuation)*utility(self.budget - mkt_price*new_c))\n",
    "        \n",
    "    # maximize(exp_utility, )\n",
    "\n",
    "    ## I think something like this is probably best        \n",
    "    # testing_range_x = np.arange((-y-z), y) # does this range make sense? - most you can sell is -y+z, most you can buy is y\n",
    "    # testing_range_x[np.argmax([exp_utility(x, rho, p, q, y, z) for x in testing_range_x])]\n",
    "    \n",
    "    \n",
    "    def utility(self, w):\n",
    "        if self.risk_av ==1:\n",
    "            return np.log(w)\n",
    "        else:\n",
    "            return (w**(1-self.risk_av))/(1-self.risk_av)\n",
    "        \n",
    "\n",
    "    # Function in which better sells of buys depending on their budget, market_valuation, and portfolio size\n",
    "    def buy(self, mkt_price):\n",
    "        # BUY - if market_valuation >= mkt_price & better has budget to buy\n",
    "        if (self.market_valuation >= mkt_price) & (self.budget >= mkt_price): \n",
    "            # Need to decide whether buyer buys the max of what is possible with their budget or not - depending on risk aversion?\n",
    "            # For example: purchased_contracts = (1-risk_aversion)*np.round(self.budget/mkt_price)\n",
    "            # Next step: include log function to acccommodate risk aversion\n",
    "            new_contracts = 1\n",
    "            self.n_contracts += new_contracts\n",
    "            self.capital -= new_contracts*mkt_price \n",
    "\n",
    "    def sell(self, mkt_price):\n",
    "        # SELL - if market valuation < market price and better has contracts to sell\n",
    "        elif (self.market_valuation) < (mkt_price & self.n_contracts > 0):\n",
    "            # Same as above, should they sell all or just a few....?\n",
    "            sold_contracts = 1\n",
    "            # For example: sold_contracts = np.round((1-risk_aversion)*self.n_contracts)\n",
    "            self.n_contracts -= sold_contracts\n",
    "            self.capital += sold_contracts*mkt_price\n",
    "\n",
    "\n",
    "    # Need to define a function that updates beliefs as a function of the current market price, stubbornness, (risk aversion?) and available information\n",
    "    # Stubbornness for now interacts here as 1-stubbornness - could consider renaming to \"openness\" or \"amenability\" ie. antonym just for clarity.\n",
    "    def update_belief(self, true_value): # stubbornness, risk aversion, information\n",
    "          self.belief += (1-self.stubbornness)*(np.random.normal(true_value, 0.05) - self.update_belief)\n",
    "          # ensure value is within range [0,1]\n",
    "          self.belief = np.clip(self.belief, 0, 1)\n",
    "    "
   ]
  },
  {
   "cell_type": "markdown",
   "metadata": {},
   "source": [
    "### Function to initialise betters\n"
   ]
  },
  {
   "cell_type": "code",
   "execution_count": 3,
   "metadata": {},
   "outputs": [],
   "source": [
    "# Set initial parameters\n",
    "parameters = {'n_betters': 500, # The number of betting agents\n",
    "              'el_outcome': 1, # Ultimate election outcome - assuming we know this to begin with and it does not change over time\n",
    "              't_election': 100, # Time until election takes place (ie. time horizon of betting)\n",
    "              'initial_price': 0.5} # Perhaps a function of uncertainty or time until election outcome?"
   ]
  },
  {
   "cell_type": "markdown",
   "metadata": {},
   "source": [
    "### Model Run"
   ]
  },
  {
   "cell_type": "code",
   "execution_count": 4,
   "metadata": {},
   "outputs": [
    {
     "ename": "TypeError",
     "evalue": "'float' object is not subscriptable",
     "output_type": "error",
     "traceback": [
      "\u001b[0;31m---------------------------------------------------------------------------\u001b[0m",
      "\u001b[0;31mTypeError\u001b[0m                                 Traceback (most recent call last)",
      "Cell \u001b[0;32mIn[4], line 32\u001b[0m\n\u001b[1;32m     28\u001b[0m             agent\u001b[38;5;241m.\u001b[39mupdate_beliefs(mkt_price)\n\u001b[1;32m     30\u001b[0m     \u001b[38;5;28;01mreturn\u001b[39;00m price_history\n\u001b[0;32m---> 32\u001b[0m pred_market \u001b[38;5;241m=\u001b[39m \u001b[43mrun_market\u001b[49m\u001b[43m(\u001b[49m\u001b[38;5;241;43m*\u001b[39;49m\u001b[38;5;241;43m*\u001b[39;49m\u001b[43mparameters\u001b[49m\u001b[43m)\u001b[49m\n",
      "Cell \u001b[0;32mIn[4], line 3\u001b[0m, in \u001b[0;36mrun_market\u001b[0;34m(n_betters, t_election, initial_price, el_outcome)\u001b[0m\n\u001b[1;32m      2\u001b[0m \u001b[38;5;28;01mdef\u001b[39;00m \u001b[38;5;21mrun_market\u001b[39m(n_betters, t_election, initial_price, el_outcome):\n\u001b[0;32m----> 3\u001b[0m     betters \u001b[38;5;241m=\u001b[39m \u001b[43m[\u001b[49m\u001b[43mbetter\u001b[49m\u001b[43m(\u001b[49m\u001b[43m)\u001b[49m\u001b[43m \u001b[49m\u001b[38;5;28;43;01mfor\u001b[39;49;00m\u001b[43m \u001b[49m\u001b[43m_\u001b[49m\u001b[43m \u001b[49m\u001b[38;5;129;43;01min\u001b[39;49;00m\u001b[43m \u001b[49m\u001b[38;5;28;43mrange\u001b[39;49m\u001b[43m(\u001b[49m\u001b[43mn_betters\u001b[49m\u001b[43m)\u001b[49m\u001b[43m]\u001b[49m\n\u001b[1;32m      4\u001b[0m     mkt_price \u001b[38;5;241m=\u001b[39m initial_price\n\u001b[1;32m      5\u001b[0m     \u001b[38;5;28mprint\u001b[39m(betters[\u001b[38;5;241m1\u001b[39m]\u001b[38;5;241m.\u001b[39mbudget[\u001b[38;5;241m0\u001b[39m])\n",
      "Cell \u001b[0;32mIn[4], line 3\u001b[0m, in \u001b[0;36m<listcomp>\u001b[0;34m(.0)\u001b[0m\n\u001b[1;32m      2\u001b[0m \u001b[38;5;28;01mdef\u001b[39;00m \u001b[38;5;21mrun_market\u001b[39m(n_betters, t_election, initial_price, el_outcome):\n\u001b[0;32m----> 3\u001b[0m     betters \u001b[38;5;241m=\u001b[39m [\u001b[43mbetter\u001b[49m\u001b[43m(\u001b[49m\u001b[43m)\u001b[49m \u001b[38;5;28;01mfor\u001b[39;00m _ \u001b[38;5;129;01min\u001b[39;00m \u001b[38;5;28mrange\u001b[39m(n_betters)]\n\u001b[1;32m      4\u001b[0m     mkt_price \u001b[38;5;241m=\u001b[39m initial_price\n\u001b[1;32m      5\u001b[0m     \u001b[38;5;28mprint\u001b[39m(betters[\u001b[38;5;241m1\u001b[39m]\u001b[38;5;241m.\u001b[39mbudget[\u001b[38;5;241m0\u001b[39m])\n",
      "Cell \u001b[0;32mIn[2], line 10\u001b[0m, in \u001b[0;36mbetter.__init__\u001b[0;34m(self)\u001b[0m\n\u001b[1;32m      8\u001b[0m \u001b[38;5;28;01mdef\u001b[39;00m \u001b[38;5;21m__init__\u001b[39m(\u001b[38;5;28mself\u001b[39m): \n\u001b[1;32m      9\u001b[0m             \u001b[38;5;66;03m# Their current budget\u001b[39;00m\n\u001b[0;32m---> 10\u001b[0m             \u001b[38;5;28mself\u001b[39m\u001b[38;5;241m.\u001b[39mbudget \u001b[38;5;241m=\u001b[39m \u001b[43mrandom\u001b[49m\u001b[38;5;241;43m.\u001b[39;49m\u001b[43muniform\u001b[49m\u001b[43m(\u001b[49m\u001b[38;5;241;43m100\u001b[39;49m\u001b[43m,\u001b[49m\u001b[38;5;241;43m1000\u001b[39;49m\u001b[43m)\u001b[49m\u001b[43m[\u001b[49m\u001b[38;5;241;43m0\u001b[39;49m\u001b[43m]\u001b[49m,\n\u001b[1;32m     11\u001b[0m             \u001b[38;5;66;03m# Their personal contract valuation - this will ultimately depend on their beliefs and evolve in relation to market activity\u001b[39;00m\n\u001b[1;32m     12\u001b[0m             \u001b[38;5;28mself\u001b[39m\u001b[38;5;241m.\u001b[39mmarket_valuation \u001b[38;5;241m=\u001b[39m random\u001b[38;5;241m.\u001b[39muniform(\u001b[38;5;241m0\u001b[39m,\u001b[38;5;241m1\u001b[39m)\n",
      "\u001b[0;31mTypeError\u001b[0m: 'float' object is not subscriptable"
     ]
    }
   ],
   "source": [
    "def run_market(n_betters, t_election, initial_price, el_outcome):\n",
    "    # Initialise betting population\n",
    "    betters = [better() for _ in range(n_betters)]\n",
    "    orders = []\n",
    "    # Initial market price\n",
    "    mkt_price = initial_price\n",
    "\n",
    "    # Record price history over time\n",
    "    price_history = [mkt_price]\n",
    "\n",
    "    # I think we need to update demand and supply after each better bets...in that case we need to random shuffle the agents\n",
    "    random.shuffle(betters)\n",
    "    demand = 0\n",
    "    supply = 0\n",
    "\n",
    "    for t in range(t_election):\n",
    "        for b in betters:\n",
    "            # Each trader proposes to sell or buy conditional on market value and their utility function\n",
    "            b.trade(mkt_price)\n",
    "            \n",
    "        # Fulfill buy-sell orders once every better has placed their order\n",
    "        #    Traders update portfolios according to fulfilled orders or not\n",
    "        ...\n",
    "        # Calculate supply and demand (buy contracts - sell contracts)\n",
    "        ...\n",
    "        # Update market price price from above difference in d and s\n",
    "        price_history.append(mkt_price)\n",
    "        # (Ignore for now) Traders updated their market valuation - have not yet decided how they do that...\n",
    "        #      Incorporate election outcome as random walk that changes with each time step\n",
    "        #      Pass this parameter to each agent with some fuzzy noise\n",
    "        for agent in agents:\n",
    "            agent.update_beliefs(mkt_price)\n",
    "            ...\n",
    "        \n",
    "    return price_history\n",
    "\n",
    "pred_market = run_market(**parameters)\n"
   ]
  },
  {
   "cell_type": "markdown",
   "metadata": {},
   "source": [
    "Questions:\n",
    "- How do we update market valuation of a better (ie. what is the new information that they are processing)?\n",
    "- Dynamic price updating versus once per discrete time step?\n",
    "\n",
    "\n"
   ]
  },
  {
   "cell_type": "markdown",
   "metadata": {},
   "source": [
    "## Results\n",
    "\n",
    "The following graph shows time series of CSE and voter intention (true intended voting behaviour of a population) in the top panel and the difference between the two estimates in the other."
   ]
  },
  {
   "cell_type": "code",
   "execution_count": null,
   "metadata": {},
   "outputs": [],
   "source": [
    "## Election Result\n",
    "fig, ax = plt.subplots(2)\n",
    "ax[0].plot(election_result[:,0], election_result[:,1], color = \"blue\", linestyle = \"dotted\")\n",
    "ax[0].plot(election_result[:,0], election_result[:,2], color = \"purple\", linestyle = \"dotted\")\n",
    "ax[1].plot(election_result[:,0], election_result[:,1] - election_result[:,2], color = \"red\", linestyle = \"dotted\")\n",
    "# Add title and axis labels\n",
    "ax[0].set_title('Market Price')\n",
    "ax[1].set_title('Beliefs')\n",
    "plt.xlabel('Time')\n",
    "plt.ylabel('Result')\n",
    "plt.xticks(rotation=45)\n",
    "fig.tight_layout()\n",
    "\n",
    "# Display the plot\n",
    "plt.show()"
   ]
  }
 ],
 "metadata": {
  "kernelspec": {
   "display_name": "Python 3 (ipykernel)",
   "language": "python",
   "name": "python3"
  },
  "language_info": {
   "codemirror_mode": {
    "name": "ipython",
    "version": 3
   },
   "file_extension": ".py",
   "mimetype": "text/x-python",
   "name": "python",
   "nbconvert_exporter": "python",
   "pygments_lexer": "ipython3",
   "version": "3.11.1"
  }
 },
 "nbformat": 4,
 "nbformat_minor": 2
}
